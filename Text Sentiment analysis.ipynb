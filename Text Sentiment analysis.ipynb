{
 "cells": [
  {
   "cell_type": "markdown",
   "id": "6382dee8",
   "metadata": {},
   "source": [
    "# Sentimental Analysis of 1 million tweets by NLP\n",
    "(Ali Jaan AI23-C2-01)"
   ]
  },
  {
   "cell_type": "code",
   "execution_count": 3,
   "id": "3663bbd1",
   "metadata": {},
   "outputs": [
    {
     "name": "stderr",
     "output_type": "stream",
     "text": [
      "[nltk_data] Downloading package omw-1.4 to\n",
      "[nltk_data]     C:\\Users\\UR\\AppData\\Roaming\\nltk_data...\n",
      "[nltk_data]   Package omw-1.4 is already up-to-date!\n"
     ]
    },
    {
     "data": {
      "text/plain": [
       "True"
      ]
     },
     "execution_count": 3,
     "metadata": {},
     "output_type": "execute_result"
    }
   ],
   "source": [
    "import nltk\n",
    "nltk.download('omw-1.4')# to download the Open Multilingual WordNet (OMW) resource using NLTK (Natural Language Toolkit)\n"
   ]
  },
  {
   "cell_type": "markdown",
   "id": "6efd06c5",
   "metadata": {},
   "source": [
    "# Importing all the necessary libraries"
   ]
  },
  {
   "cell_type": "code",
   "execution_count": 5,
   "id": "a7876a75",
   "metadata": {},
   "outputs": [],
   "source": [
    "import re\n",
    "import pickle\n",
    "import numpy as np\n",
    "import pandas as pd\n",
    "import seaborn as sns\n",
    "import matplotlib.pyplot as plt\n",
    "from nltk.stem import WordNetLemmatizer\n",
    "from sklearn.svm import LinearSVC\n",
    "from sklearn.naive_bayes import BernoulliNB\n",
    "from sklearn.linear_model import LogisticRegression\n",
    "from sklearn.model_selection import train_test_split\n",
    "from sklearn.feature_extraction.text import TfidfVectorizer\n",
    "from sklearn.metrics import confusion_matrix, classification_report"
   ]
  },
  {
   "cell_type": "markdown",
   "id": "43b8e287",
   "metadata": {},
   "source": [
    "# Loading the data"
   ]
  },
  {
   "cell_type": "code",
   "execution_count": 72,
   "id": "932eba74",
   "metadata": {},
   "outputs": [],
   "source": [
    "columns  = [\"sentiment\", \"ids\", \"date\", \"flag\", \"user\", \"text\"]\n",
    "encode = \"ISO-8859-1\"\n",
    "dataset = pd.read_csv('sentimental data.csv',encoding=encode , names=columns)\n",
    "dataset = dataset[['sentiment','text']]\n",
    "dataset['sentiment'] = dataset['sentiment'].replace(4,1)"
   ]
  },
  {
   "cell_type": "markdown",
   "id": "43d9f8c5",
   "metadata": {},
   "source": [
    "# Seprating and scaling the data set"
   ]
  },
  {
   "cell_type": "code",
   "execution_count": 73,
   "id": "9a66f357",
   "metadata": {},
   "outputs": [
    {
     "data": {
      "image/png": "[encoded data removed]",
      "text/plain": [
       "<Figure size 640x480 with 1 Axes>"
      ]
     },
     "metadata": {},
     "output_type": "display_data"
    }
   ],
   "source": [
    "# plotting the dataset\n",
    "ax = dataset.groupby('sentiment').count().plot(kind='bar', title='Distribution of data',legend=False)\n",
    "ax.set_xticklabels(['Negative','Positive'], rotation=0)\n",
    "text, sentiment = list(dataset['text']), list(dataset['sentiment'])"
   ]
  },
  {
   "cell_type": "code",
   "execution_count": 74,
   "id": "522811e7",
   "metadata": {},
   "outputs": [
    {
     "data": {
      "text/html": [
       "<div>\n",
       "<style scoped>\n",
       "    .dataframe tbody tr th:only-of-type {\n",
       "        vertical-align: middle;\n",
       "    }\n",
       "\n",
       "    .dataframe tbody tr th {\n",
       "        vertical-align: top;\n",
       "    }\n",
       "\n",
       "    .dataframe thead th {\n",
       "        text-align: right;\n",
       "    }\n",
       "</style>\n",
       "<table border=\"1\" class=\"dataframe\">\n",
       "  <thead>\n",
       "    <tr style=\"text-align: right;\">\n",
       "      <th></th>\n",
       "      <th>sentiment</th>\n",
       "      <th>text</th>\n",
       "    </tr>\n",
       "  </thead>\n",
       "  <tbody>\n",
       "    <tr>\n",
       "      <th>0</th>\n",
       "      <td>0</td>\n",
       "      <td>@switchfoot http://twitpic.com/2y1zl - Awww, t...</td>\n",
       "    </tr>\n",
       "    <tr>\n",
       "      <th>1</th>\n",
       "      <td>0</td>\n",
       "      <td>is upset that he can't update his Facebook by ...</td>\n",
       "    </tr>\n",
       "    <tr>\n",
       "      <th>2</th>\n",
       "      <td>0</td>\n",
       "      <td>@Kenichan I dived many times for the ball. Man...</td>\n",
       "    </tr>\n",
       "    <tr>\n",
       "      <th>3</th>\n",
       "      <td>0</td>\n",
       "      <td>my whole body feels itchy and like its on fire</td>\n",
       "    </tr>\n",
       "    <tr>\n",
       "      <th>4</th>\n",
       "      <td>0</td>\n",
       "      <td>@nationwideclass no, it's not behaving at all....</td>\n",
       "    </tr>\n",
       "    <tr>\n",
       "      <th>...</th>\n",
       "      <td>...</td>\n",
       "      <td>...</td>\n",
       "    </tr>\n",
       "    <tr>\n",
       "      <th>1599995</th>\n",
       "      <td>1</td>\n",
       "      <td>Just woke up. Having no school is the best fee...</td>\n",
       "    </tr>\n",
       "    <tr>\n",
       "      <th>1599996</th>\n",
       "      <td>1</td>\n",
       "      <td>TheWDB.com - Very cool to hear old Walt interv...</td>\n",
       "    </tr>\n",
       "    <tr>\n",
       "      <th>1599997</th>\n",
       "      <td>1</td>\n",
       "      <td>Are you ready for your MoJo Makeover? Ask me f...</td>\n",
       "    </tr>\n",
       "    <tr>\n",
       "      <th>1599998</th>\n",
       "      <td>1</td>\n",
       "      <td>Happy 38th Birthday to my boo of alll time!!! ...</td>\n",
       "    </tr>\n",
       "    <tr>\n",
       "      <th>1599999</th>\n",
       "      <td>1</td>\n",
       "      <td>happy #charitytuesday @theNSPCC @SparksCharity...</td>\n",
       "    </tr>\n",
       "  </tbody>\n",
       "</table>\n",
       "<p>1600000 rows × 2 columns</p>\n",
       "</div>"
      ],
      "text/plain": [
       "         sentiment                                               text\n",
       "0                0  @switchfoot http://twitpic.com/2y1zl - Awww, t...\n",
       "1                0  is upset that he can't update his Facebook by ...\n",
       "2                0  @Kenichan I dived many times for the ball. Man...\n",
       "3                0    my whole body feels itchy and like its on fire \n",
       "4                0  @nationwideclass no, it's not behaving at all....\n",
       "...            ...                                                ...\n",
       "1599995          1  Just woke up. Having no school is the best fee...\n",
       "1599996          1  TheWDB.com - Very cool to hear old Walt interv...\n",
       "1599997          1  Are you ready for your MoJo Makeover? Ask me f...\n",
       "1599998          1  Happy 38th Birthday to my boo of alll time!!! ...\n",
       "1599999          1  happy #charitytuesday @theNSPCC @SparksCharity...\n",
       "\n",
       "[1600000 rows x 2 columns]"
      ]
     },
     "execution_count": 74,
     "metadata": {},
     "output_type": "execute_result"
    }
   ],
   "source": [
    "dataset"
   ]
  },
  {
   "cell_type": "code",
   "execution_count": 75,
   "id": "ccde5c16",
   "metadata": {},
   "outputs": [],
   "source": [
    "# Defining dictionary containing all emojis with their meanings.\n",
    "emojis = {':)': 'smile', ':-)': 'smile', ';d': 'wink', ':-E': 'vampire', ':(': 'sad', \n",
    "          ':-(': 'sad', ':-<': 'sad', ':P': 'raspberry', ':O': 'surprised',\n",
    "          ':-@': 'shocked', ':@': 'shocked',':-$': 'confused', ':\\\\': 'annoyed', \n",
    "          ':#': 'mute', ':X': 'mute', ':^)': 'smile', ':-&': 'confused', '$_$': 'greedy',\n",
    "          '@@': 'eyeroll', ':-!': 'confused', ':-D': 'smile', ':-0': 'yell', 'O.o': 'confused',\n",
    "          '<(-_-)>': 'robot', 'd[-_-]b': 'dj', \":'-)\": 'sadsmile', ';)': 'wink', \n",
    "          ';-)': 'wink', 'O:-)': 'angel','O*-)': 'angel','(:-D': 'gossip', '=^.^=': 'cat'}\n"
   ]
  },
  {
   "cell_type": "code",
   "execution_count": 76,
   "id": "05882b42",
   "metadata": {},
   "outputs": [],
   "source": [
    "# Defining set containing all stopwords in english.\n",
    "stopwordlist = ['a', 'about', 'above', 'after', 'again', 'ain', 'all', 'am', 'an',\n",
    "             'and','any','are', 'as', 'at', 'be', 'because', 'been', 'before',\n",
    "             'being', 'below', 'between','both', 'by', 'can', 'd', 'did', 'do',\n",
    "             'does', 'doing', 'down', 'during', 'each','few', 'for', 'from', \n",
    "             'further', 'had', 'has', 'have', 'having', 'he', 'her', 'here',\n",
    "             'hers', 'herself', 'him', 'himself', 'his', 'how', 'i', 'if', 'in',\n",
    "             'into','is', 'it', 'its', 'itself', 'just', 'll', 'm', 'ma',\n",
    "             'me', 'more', 'most','my', 'myself', 'now', 'o', 'of', 'on', 'once',\n",
    "             'only', 'or', 'other', 'our', 'ours','ourselves', 'out', 'own', 're',\n",
    "             's', 'same', 'she', \"shes\", 'should', \"shouldve\",'so', 'some', 'such',\n",
    "             't', 'than', 'that', \"thatll\", 'the', 'their', 'theirs', 'them',\n",
    "             'themselves', 'then', 'there', 'these', 'they', 'this', 'those', \n",
    "             'through', 'to', 'too','under', 'until', 'up', 've', 'very', 'was',\n",
    "             'we', 'were', 'what', 'when', 'where','which','while', 'who', 'whom',\n",
    "             'why', 'will', 'with', 'won', 'y', 'you', \"youd\",\"youll\", \"youre\",\n",
    "             \"youve\", 'your', 'yours', 'yourself', 'yourselves']"
   ]
  },
  {
   "cell_type": "code",
   "execution_count": 113,
   "id": "5d8038a2",
   "metadata": {},
   "outputs": [],
   "source": [
    "def preprocess(textdata):\n",
    "    processedText = []\n",
    "    \n",
    "    # Creating Lemmatizer and Stemmer.\n",
    "    wordLemm = WordNetLemmatizer() #converting words to their base or dictionary form\n",
    "    \n",
    "    # Defining regex patterns.\n",
    "    urlPattern        = r\"((http://)[^ ]*|(https://)[^ ]*|( www\\.)[^ ]*)\" #to match URLs in the text\n",
    "    userPattern       = '@[^\\s]+' #to identify and potentially remove user mentions from the text\n",
    "    alphaPattern      = \"[^a-zA-Z0-9]\" #to remove non-alphanumeric characters from the text.\n",
    "    sequencePattern   = r\"(.)\\1\\1+\" #to identify sequences of repeated characters (3 or more repetitions) in the text\n",
    "    seqReplacePattern = r\"\\1\\1\" #to replace sequences of repeated characters with just two occurrences of the same character.\n",
    "    \n",
    "    for tweet in textdata:\n",
    "        tweet = tweet.lower()\n",
    "        tweet = re.sub(urlPattern,' URL',tweet)\n",
    "        for emoji in emojis.keys():\n",
    "            tweet = tweet.replace(emoji, \"EMOJI\" + emojis[emoji])        \n",
    "        tweet = re.sub(userPattern,' USER', tweet)\n",
    "        \n",
    "        tweet = re.sub(alphaPattern, \" \", tweet)\n",
    "        tweet = re.sub(sequencePattern, seqReplacePattern, tweet)\n",
    "\n",
    "        tweetwords = ''\n",
    "        for word in tweet.split():\n",
    "            if len(word)>1:\n",
    "                word = wordLemm.lemmatize(word)\n",
    "                tweetwords += (word+' ')\n",
    "            \n",
    "        processedText.append(tweetwords)\n",
    "        \n",
    "    return processedText"
   ]
  },
  {
   "cell_type": "code",
   "execution_count": 114,
   "id": "15c1dd48",
   "metadata": {},
   "outputs": [],
   "source": [
    "processedtext = preprocess(text) # passing the values to the function "
   ]
  },
  {
   "cell_type": "code",
   "execution_count": 115,
   "id": "92595318",
   "metadata": {},
   "outputs": [],
   "source": [
    "# training the data\n",
    "X_train, X_test, y_train, y_test = train_test_split(processedtext, sentiment,test_size = 0.2, random_state = 42)"
   ]
  },
  {
   "cell_type": "code",
   "execution_count": 116,
   "id": "2fe20c3c",
   "metadata": {},
   "outputs": [
    {
     "name": "stdout",
     "output_type": "stream",
     "text": [
      "No. of values of X_train:\n",
      "1280000\n",
      "No. of values of X_test:\n",
      "320000\n"
     ]
    }
   ],
   "source": [
    "print('No. of values of X_train:')\n",
    "print(len(X_train))\n",
    "print('No. of values of X_test:')\n",
    "print(len(X_test))"
   ]
  },
  {
   "cell_type": "code",
   "execution_count": 117,
   "id": "4e17f810",
   "metadata": {},
   "outputs": [
    {
     "name": "stdout",
     "output_type": "stream",
     "text": [
      "Vectoriser fitted.\n",
      "No. of feature_words:  500000\n"
     ]
    }
   ],
   "source": [
    "vectoriser = TfidfVectorizer(ngram_range=(1,2), max_features=500000)# converting a collection of text documents into a matrix of TF-IDF features\n",
    "vectoriser.fit(X_train)\n",
    "print(f'Vectoriser fitted.')\n",
    "print('No. of feature_words: ', len(vectoriser.get_feature_names_out()))"
   ]
  },
  {
   "cell_type": "code",
   "execution_count": 118,
   "id": "5c4ebe0b",
   "metadata": {},
   "outputs": [
    {
     "name": "stdout",
     "output_type": "stream",
     "text": [
      "X_train_transformed:   (0, 492338)\t0.19678137676893245\n",
      "  (0, 491929)\t0.11563626454962006\n",
      "  (0, 489303)\t0.2506064824043719\n",
      "  (0, 489057)\t0.1283945320798918\n",
      "  (0, 481414)\t0.2072244813024059\n",
      "  (0, 478618)\t0.07804783158637273\n",
      "  (0, 452786)\t0.18797830932557177\n",
      "  (0, 446757)\t0.03775655028866074\n",
      "  (0, 433084)\t0.28264068449095564\n",
      "  (0, 402190)\t0.17011774100830712\n",
      "  (0, 400503)\t0.07104915113886723\n",
      "  (0, 380747)\t0.17355156787470533\n",
      "  (0, 380662)\t0.12545643510572124\n",
      "  (0, 345897)\t0.23124945401345018\n",
      "  (0, 345822)\t0.12253264692965303\n",
      "  (0, 340942)\t0.21043913640310544\n",
      "  (0, 339860)\t0.10328011768712649\n",
      "  (0, 333840)\t0.2645947309081487\n",
      "  (0, 333559)\t0.17164903634682077\n",
      "  (0, 318883)\t0.20398548450119716\n",
      "  (0, 318872)\t0.18764745621848472\n",
      "  (0, 296171)\t0.08209070289547893\n",
      "  (0, 280780)\t0.24020542771767317\n",
      "  (0, 280284)\t0.05822141305990863\n",
      "  (0, 243156)\t0.28652381285096973\n",
      "  :\t:\n",
      "  (1279998, 45638)\t0.07645912352983125\n",
      "  (1279998, 3952)\t0.26865271413758157\n",
      "  (1279998, 3935)\t0.17752869334261237\n",
      "  (1279999, 483520)\t0.3607334597247624\n",
      "  (1279999, 483494)\t0.22496737591049326\n",
      "  (1279999, 423376)\t0.2652950857353505\n",
      "  (1279999, 421497)\t0.06187596178401926\n",
      "  (1279999, 416305)\t0.2580324804614397\n",
      "  (1279999, 415409)\t0.10624137089947476\n",
      "  (1279999, 389910)\t0.23319135435669086\n",
      "  (1279999, 389878)\t0.1967918267149937\n",
      "  (1279999, 374626)\t0.257291631725611\n",
      "  (1279999, 374066)\t0.09379943264143437\n",
      "  (1279999, 366737)\t0.17564281412077057\n",
      "  (1279999, 260600)\t0.19858029218394235\n",
      "  (1279999, 205737)\t0.19603281764439626\n",
      "  (1279999, 205048)\t0.1248266721400248\n",
      "  (1279999, 196415)\t0.32360730770656543\n",
      "  (1279999, 195883)\t0.12930550589004663\n",
      "  (1279999, 164745)\t0.12734132733389536\n",
      "  (1279999, 164394)\t0.1165194784099862\n",
      "  (1279999, 146677)\t0.2789395353694489\n",
      "  (1279999, 144713)\t0.08453129826251736\n",
      "  (1279999, 132371)\t0.3172673662223663\n",
      "  (1279999, 132268)\t0.1947811823332451\n",
      "X_test_trandformed:   (0, 497571)\t0.49345573081898875\n",
      "  (0, 496343)\t0.1880932514088498\n",
      "  (0, 446983)\t0.33421359247928756\n",
      "  (0, 446757)\t0.078166608521018\n",
      "  (0, 303614)\t0.24763894385749147\n",
      "  (0, 197697)\t0.35433138587286506\n",
      "  (0, 197414)\t0.21346747331997667\n",
      "  (0, 14658)\t0.5418971815442217\n",
      "  (0, 14553)\t0.2778793467498629\n",
      "  (1, 447970)\t0.2712482098138602\n",
      "  (1, 446757)\t0.06177154803311729\n",
      "  (1, 437891)\t0.19249939846541625\n",
      "  (1, 344333)\t0.4354721055244673\n",
      "  (1, 293265)\t0.34888564588126186\n",
      "  (1, 291854)\t0.1424337272418915\n",
      "  (1, 280284)\t0.09525305638068865\n",
      "  (1, 183246)\t0.23949379517191904\n",
      "  (1, 181867)\t0.12021473945041167\n",
      "  (1, 146826)\t0.21284045582184308\n",
      "  (1, 144713)\t0.10709956266765774\n",
      "  (1, 89982)\t0.36616801569772095\n",
      "  (1, 89823)\t0.19863409625326123\n",
      "  (1, 33040)\t0.39220466767996504\n",
      "  (1, 33026)\t0.29815389883364274\n",
      "  (2, 480002)\t0.24715752503022836\n",
      "  :\t:\n",
      "  (319998, 346759)\t0.27951249822321367\n",
      "  (319998, 346538)\t0.13527223122828438\n",
      "  (319998, 172233)\t0.3524215321568981\n",
      "  (319998, 172230)\t0.289726689026779\n",
      "  (319998, 147862)\t0.14459347579929469\n",
      "  (319998, 144713)\t0.09205802507989438\n",
      "  (319998, 127179)\t0.17527520428419466\n",
      "  (319998, 113249)\t0.303127722380526\n",
      "  (319998, 113214)\t0.16488250072966404\n",
      "  (319998, 74089)\t0.2040277755347981\n",
      "  (319998, 68624)\t0.25420447268942675\n",
      "  (319998, 67743)\t0.10506518167030737\n",
      "  (319998, 53349)\t0.3072496443141098\n",
      "  (319998, 52980)\t0.1676948426752069\n",
      "  (319999, 449603)\t0.19841398152317802\n",
      "  (319999, 446757)\t0.06329009624074308\n",
      "  (319999, 444425)\t0.4043095038893517\n",
      "  (319999, 244490)\t0.24198042205813047\n",
      "  (319999, 221785)\t0.4882572652138031\n",
      "  (319999, 218722)\t0.09579918250064168\n",
      "  (319999, 161928)\t0.21939303104088248\n",
      "  (319999, 68174)\t0.4228312508599993\n",
      "  (319999, 67743)\t0.1252368485132786\n",
      "  (319999, 65480)\t0.42143101027452234\n",
      "  (319999, 65425)\t0.25850528473851275\n",
      "Data Transformed.\n"
     ]
    }
   ],
   "source": [
    "#Transforming the X_train and X_test dataset into matrix of TF-IDF Features by using the TF-IDF Vectoriser.\n",
    "X_train = vectoriser.transform(X_train)\n",
    "print('X_train_transformed:',X_train)\n",
    "X_test  = vectoriser.transform(X_test)\n",
    "print('X_test_trandformed:',X_test)\n",
    "print(f'Data Transformed.')"
   ]
  },
  {
   "cell_type": "markdown",
   "id": "05bd6128",
   "metadata": {},
   "source": [
    "# Model selection"
   ]
  },
  {
   "cell_type": "code",
   "execution_count": 119,
   "id": "cb753491",
   "metadata": {},
   "outputs": [
    {
     "data": {
      "text/html": [
       "<style>#sk-container-id-1 {color: black;background-color: white;}#sk-container-id-1 pre{padding: 0;}#sk-container-id-1 div.sk-toggleable {background-color: white;}#sk-container-id-1 label.sk-toggleable__label {cursor: pointer;display: block;width: 100%;margin-bottom: 0;padding: 0.3em;box-sizing: border-box;text-align: center;}#sk-container-id-1 label.sk-toggleable__label-arrow:before {content: \"▸\";float: left;margin-right: 0.25em;color: #696969;}#sk-container-id-1 label.sk-toggleable__label-arrow:hover:before {color: black;}#sk-container-id-1 div.sk-estimator:hover label.sk-toggleable__label-arrow:before {color: black;}#sk-container-id-1 div.sk-toggleable__content {max-height: 0;max-width: 0;overflow: hidden;text-align: left;background-color: #f0f8ff;}#sk-container-id-1 div.sk-toggleable__content pre {margin: 0.2em;color: black;border-radius: 0.25em;background-color: #f0f8ff;}#sk-container-id-1 input.sk-toggleable__control:checked~div.sk-toggleable__content {max-height: 200px;max-width: 100%;overflow: auto;}#sk-container-id-1 input.sk-toggleable__control:checked~label.sk-toggleable__label-arrow:before {content: \"▾\";}#sk-container-id-1 div.sk-estimator input.sk-toggleable__control:checked~label.sk-toggleable__label {background-color: #d4ebff;}#sk-container-id-1 div.sk-label input.sk-toggleable__control:checked~label.sk-toggleable__label {background-color: #d4ebff;}#sk-container-id-1 input.sk-hidden--visually {border: 0;clip: rect(1px 1px 1px 1px);clip: rect(1px, 1px, 1px, 1px);height: 1px;margin: -1px;overflow: hidden;padding: 0;position: absolute;width: 1px;}#sk-container-id-1 div.sk-estimator {font-family: monospace;background-color: #f0f8ff;border: 1px dotted black;border-radius: 0.25em;box-sizing: border-box;margin-bottom: 0.5em;}#sk-container-id-1 div.sk-estimator:hover {background-color: #d4ebff;}#sk-container-id-1 div.sk-parallel-item::after {content: \"\";width: 100%;border-bottom: 1px solid gray;flex-grow: 1;}#sk-container-id-1 div.sk-label:hover label.sk-toggleable__label {background-color: #d4ebff;}#sk-container-id-1 div.sk-serial::before {content: \"\";position: absolute;border-left: 1px solid gray;box-sizing: border-box;top: 0;bottom: 0;left: 50%;z-index: 0;}#sk-container-id-1 div.sk-serial {display: flex;flex-direction: column;align-items: center;background-color: white;padding-right: 0.2em;padding-left: 0.2em;position: relative;}#sk-container-id-1 div.sk-item {position: relative;z-index: 1;}#sk-container-id-1 div.sk-parallel {display: flex;align-items: stretch;justify-content: center;background-color: white;position: relative;}#sk-container-id-1 div.sk-item::before, #sk-container-id-1 div.sk-parallel-item::before {content: \"\";position: absolute;border-left: 1px solid gray;box-sizing: border-box;top: 0;bottom: 0;left: 50%;z-index: -1;}#sk-container-id-1 div.sk-parallel-item {display: flex;flex-direction: column;z-index: 1;position: relative;background-color: white;}#sk-container-id-1 div.sk-parallel-item:first-child::after {align-self: flex-end;width: 50%;}#sk-container-id-1 div.sk-parallel-item:last-child::after {align-self: flex-start;width: 50%;}#sk-container-id-1 div.sk-parallel-item:only-child::after {width: 0;}#sk-container-id-1 div.sk-dashed-wrapped {border: 1px dashed gray;margin: 0 0.4em 0.5em 0.4em;box-sizing: border-box;padding-bottom: 0.4em;background-color: white;}#sk-container-id-1 div.sk-label label {font-family: monospace;font-weight: bold;display: inline-block;line-height: 1.2em;}#sk-container-id-1 div.sk-label-container {text-align: center;}#sk-container-id-1 div.sk-container {/* jupyter's `normalize.less` sets `[hidden] { display: none; }` but bootstrap.min.css set `[hidden] { display: none !important; }` so we also need the `!important` here to be able to override the default hidden behavior on the sphinx rendered scikit-learn.org. See: https://github.com/scikit-learn/scikit-learn/issues/21755 */display: inline-block !important;position: relative;}#sk-container-id-1 div.sk-text-repr-fallback {display: none;}</style><div id=\"sk-container-id-1\" class=\"sk-top-container\"><div class=\"sk-text-repr-fallback\"><pre>LogisticRegression(C=2, max_iter=1000, n_jobs=-1)</pre><b>In a Jupyter environment, please rerun this cell to show the HTML representation or trust the notebook. <br />On GitHub, the HTML representation is unable to render, please try loading this page with nbviewer.org.</b></div><div class=\"sk-container\" hidden><div class=\"sk-item\"><div class=\"sk-estimator sk-toggleable\"><input class=\"sk-toggleable__control sk-hidden--visually\" id=\"sk-estimator-id-1\" type=\"checkbox\" checked><label for=\"sk-estimator-id-1\" class=\"sk-toggleable__label sk-toggleable__label-arrow\">LogisticRegression</label><div class=\"sk-toggleable__content\"><pre>LogisticRegression(C=2, max_iter=1000, n_jobs=-1)</pre></div></div></div></div></div>"
      ],
      "text/plain": [
       "LogisticRegression(C=2, max_iter=1000, n_jobs=-1)"
      ]
     },
     "execution_count": 119,
     "metadata": {},
     "output_type": "execute_result"
    }
   ],
   "source": [
    "LRmodel = LogisticRegression(C = 2, max_iter = 1000, n_jobs=-1)\n",
    "LRmodel.fit(X_train, y_train)"
   ]
  },
  {
   "cell_type": "markdown",
   "id": "1490f806",
   "metadata": {},
   "source": [
    "# Evaluating the model"
   ]
  },
  {
   "cell_type": "code",
   "execution_count": 120,
   "id": "038de976",
   "metadata": {},
   "outputs": [],
   "source": [
    "def model_Evaluate(model):\n",
    "    \n",
    "    # Predicting values for Test dataset\n",
    "    y_pred = model.predict(X_test)\n",
    "\n",
    "    # Printing the evaluation metrics for the dataset.\n",
    "    print(classification_report(y_test, y_pred))\n",
    "    \n",
    "    # Computing and plotting the Confusion matrix\n",
    "    cf_matrix = confusion_matrix(y_test, y_pred)\n",
    "\n",
    "    categories  = ['Negative','Positive']\n",
    "    group_names = ['True Neg','False Pos', 'False Neg','True Pos']\n",
    "    group_percentages = ['{0:.2%}'.format(value) for value in cf_matrix.flatten() / np.sum(cf_matrix)]\n",
    "\n",
    "    labels = [f'{v1}\\n{v2}' for v1, v2 in zip(group_names,group_percentages)]\n",
    "    labels = np.asarray(labels).reshape(2,2)\n",
    "\n",
    "    sns.heatmap(cf_matrix, annot = labels, cmap = 'Blues',fmt = '',\n",
    "                xticklabels = categories, yticklabels = categories)\n",
    "\n",
    "    plt.xlabel(\"Predicted values\", fontdict = {'size':14}, labelpad = 10)\n",
    "    plt.ylabel(\"Actual values\"   , fontdict = {'size':14}, labelpad = 10)\n",
    "    plt.title (\"Confusion Matrix\", fontdict = {'size':18}, pad = 20)"
   ]
  },
  {
   "cell_type": "code",
   "execution_count": 121,
   "id": "a0f825f4",
   "metadata": {},
   "outputs": [
    {
     "name": "stdout",
     "output_type": "stream",
     "text": [
      "              precision    recall  f1-score   support\n",
      "\n",
      "           0       0.83      0.82      0.82    159494\n",
      "           1       0.82      0.83      0.83    160506\n",
      "\n",
      "    accuracy                           0.83    320000\n",
      "   macro avg       0.83      0.83      0.83    320000\n",
      "weighted avg       0.83      0.83      0.83    320000\n",
      "\n"
     ]
    },
    {
     "data": {
      "image/png": "[encoded data removed]",
      "text/plain": [
       "<Figure size 640x480 with 2 Axes>"
      ]
     },
     "metadata": {},
     "output_type": "display_data"
    }
   ],
   "source": [
    "#passing values to the evaluating-function to evaluate the model\n",
    "model_Evaluate(LRmodel)"
   ]
  },
  {
   "cell_type": "markdown",
   "id": "e2d0dcd8",
   "metadata": {},
   "source": [
    "# Deployment "
   ]
  },
  {
   "cell_type": "code",
   "execution_count": 122,
   "id": "20f6bb08",
   "metadata": {},
   "outputs": [],
   "source": [
    "file = open('vectoriser.pickle','wb')\n",
    "pickle.dump(vectoriser, file)\n",
    "file.close()\n",
    "file = open('Sentiment.pickle','wb')\n",
    "pickle.dump(LRmodel, file)\n",
    "file.close()"
   ]
  },
  {
   "cell_type": "code",
   "execution_count": null,
   "id": "2326b0b9",
   "metadata": {},
   "outputs": [],
   "source": []
  }
 ],
 "metadata": {
  "kernelspec": {
   "display_name": "Python 3 (ipykernel)",
   "language": "python",
   "name": "python3"
  },
  "language_info": {
   "codemirror_mode": {
    "name": "ipython",
    "version": 3
   },
   "file_extension": ".py",
   "mimetype": "text/x-python",
   "name": "python",
   "nbconvert_exporter": "python",
   "pygments_lexer": "ipython3",
   "version": "3.10.9"
  }
 },
 "nbformat": 4,
 "nbformat_minor": 5
}
